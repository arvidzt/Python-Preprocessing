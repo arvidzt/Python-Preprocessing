{
 "cells": [
  {
   "cell_type": "code",
   "execution_count": 2,
   "metadata": {
    "collapsed": false
   },
   "outputs": [
    {
     "name": "stdout",
     "output_type": "stream",
     "text": [
      "[ 0.07544418  0.72124885  0.5112292   0.83066204  0.37268538  0.62688446\n",
      "  0.51341128  0.6552007   0.38772994  0.0904216   0.44841322  0.18547303\n",
      "  0.81830075  0.19906634  0.59230973  0.47074338  0.32087937  0.36003158\n",
      "  0.9561651   0.11716095]\n"
     ]
    }
   ],
   "source": [
    "import numpy as np\n",
    "from numpy.random import randn\n",
    "import pandas as pd\n",
    "data = np.random.rand(20)\n",
    "print data"
   ]
  },
  {
   "cell_type": "code",
   "execution_count": 3,
   "metadata": {
    "collapsed": false
   },
   "outputs": [
    {
     "data": {
      "text/plain": [
       "[(0.075, 0.3], (0.52, 0.74], (0.3, 0.52], (0.74, 0.96], (0.3, 0.52], ..., (0.3, 0.52], (0.3, 0.52], (0.3, 0.52], (0.74, 0.96], (0.075, 0.3]]\n",
       "Length: 20\n",
       "Categories (4, object): [(0.075, 0.3] < (0.3, 0.52] < (0.52, 0.74] < (0.74, 0.96]]"
      ]
     },
     "execution_count": 3,
     "metadata": {},
     "output_type": "execute_result"
    }
   ],
   "source": [
    "pd.cut(data, 4, precision=2) ### equal length bins"
   ]
  },
  {
   "cell_type": "code",
   "execution_count": 12,
   "metadata": {
    "collapsed": false
   },
   "outputs": [
    {
     "name": "stdout",
     "output_type": "stream",
     "text": [
      "(0.634, 0.956]    5\n",
      "(0.46, 0.634]     5\n",
      "(0.29, 0.46]      5\n",
      "[0.0754, 0.29]    5\n",
      "dtype: int64\n"
     ]
    }
   ],
   "source": [
    "intervals=pd.qcut(data, 4) ### equal number of datapoints in each interval\n",
    "print pd.value_counts(intervals)"
   ]
  },
  {
   "cell_type": "code",
   "execution_count": 2,
   "metadata": {
    "collapsed": false
   },
   "outputs": [
    {
     "data": {
      "text/html": [
       "<div>\n",
       "<table border=\"1\" class=\"dataframe\">\n",
       "  <thead>\n",
       "    <tr style=\"text-align: right;\">\n",
       "      <th></th>\n",
       "      <th>count</th>\n",
       "      <th>max</th>\n",
       "      <th>mean</th>\n",
       "      <th>min</th>\n",
       "    </tr>\n",
       "    <tr>\n",
       "      <th>data1</th>\n",
       "      <th></th>\n",
       "      <th></th>\n",
       "      <th></th>\n",
       "      <th></th>\n",
       "    </tr>\n",
       "  </thead>\n",
       "  <tbody>\n",
       "    <tr>\n",
       "      <th>(-3.4, -1.754]</th>\n",
       "      <td>43</td>\n",
       "      <td>-1.754337</td>\n",
       "      <td>-2.144948</td>\n",
       "      <td>-3.393306</td>\n",
       "    </tr>\n",
       "    <tr>\n",
       "      <th>(-1.754, -0.114]</th>\n",
       "      <td>410</td>\n",
       "      <td>-0.115254</td>\n",
       "      <td>-0.738848</td>\n",
       "      <td>-1.749691</td>\n",
       "    </tr>\n",
       "    <tr>\n",
       "      <th>(-0.114, 1.525]</th>\n",
       "      <td>477</td>\n",
       "      <td>1.522725</td>\n",
       "      <td>0.568646</td>\n",
       "      <td>-0.113717</td>\n",
       "    </tr>\n",
       "    <tr>\n",
       "      <th>(1.525, 3.165]</th>\n",
       "      <td>70</td>\n",
       "      <td>3.164936</td>\n",
       "      <td>1.929731</td>\n",
       "      <td>1.529369</td>\n",
       "    </tr>\n",
       "  </tbody>\n",
       "</table>\n",
       "</div>"
      ],
      "text/plain": [
       "                  count       max      mean       min\n",
       "data1                                                \n",
       "(-3.4, -1.754]       43 -1.754337 -2.144948 -3.393306\n",
       "(-1.754, -0.114]    410 -0.115254 -0.738848 -1.749691\n",
       "(-0.114, 1.525]     477  1.522725  0.568646 -0.113717\n",
       "(1.525, 3.165]       70  3.164936  1.929731  1.529369"
      ]
     },
     "execution_count": 2,
     "metadata": {},
     "output_type": "execute_result"
    }
   ],
   "source": [
    "import pandas as pd\n",
    "from pandas import *\n",
    "frame = DataFrame({'data1': np.random.randn(1000),'data2': np.random.randn(1000)})\n",
    "factor = pd.cut(frame.data1, 4)\n",
    "def get_stats(group):\n",
    "    return {'min': group.min(), 'max': group.max(),'count': group.count(), 'mean': group.mean()}\n",
    "grouped = frame.data1.groupby(factor)\n",
    "grouped.apply(get_stats).unstack()"
   ]
  },
  {
   "cell_type": "code",
   "execution_count": null,
   "metadata": {
    "collapsed": true
   },
   "outputs": [],
   "source": []
  }
 ],
 "metadata": {
  "kernelspec": {
   "display_name": "Python 2",
   "language": "python",
   "name": "python2"
  },
  "language_info": {
   "codemirror_mode": {
    "name": "ipython",
    "version": 2
   },
   "file_extension": ".py",
   "mimetype": "text/x-python",
   "name": "python",
   "nbconvert_exporter": "python",
   "pygments_lexer": "ipython2",
   "version": "2.7.10"
  }
 },
 "nbformat": 4,
 "nbformat_minor": 0
}
