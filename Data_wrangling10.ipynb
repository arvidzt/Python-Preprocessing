{
 "cells": [
  {
   "cell_type": "code",
   "execution_count": 13,
   "metadata": {
    "collapsed": false
   },
   "outputs": [
    {
     "name": "stdout",
     "output_type": "stream",
     "text": [
      "          one  two  three  four\n",
      "Ohio        0    1      2     3\n",
      "Colorado    4    5      6     7\n",
      "New York    8    9     10    11\n"
     ]
    }
   ],
   "source": [
    "import pandas \n",
    "from pandas import *\n",
    "import numpy as np\n",
    "data = DataFrame(np.arange(12).reshape((3, 4)),\n",
    "                 index=['Ohio', 'Colorado', 'New York'],\n",
    "                 columns=['one', 'two', 'three', 'four'])\n",
    "print data"
   ]
  },
  {
   "cell_type": "code",
   "execution_count": 14,
   "metadata": {
    "collapsed": false
   },
   "outputs": [
    {
     "name": "stdout",
     "output_type": "stream",
     "text": [
      "          one  two  three  four\n",
      "OHIO        0    1      2     3\n",
      "COLORADO    4    5      6     7\n",
      "NEW YORK    8    9     10    11\n"
     ]
    }
   ],
   "source": [
    "data.index = data.index.map(str.upper)\n",
    "print data"
   ]
  },
  {
   "cell_type": "code",
   "execution_count": 15,
   "metadata": {
    "collapsed": false
   },
   "outputs": [
    {
     "name": "stdout",
     "output_type": "stream",
     "text": [
      "          ONE  TWO  THREE  FOUR\n",
      "OHIO        0    1      2     3\n",
      "COLORADO    4    5      6     7\n",
      "NEW YORK    8    9     10    11\n"
     ]
    }
   ],
   "source": [
    "data=data.rename(columns=str.upper)\n",
    "print data"
   ]
  },
  {
   "cell_type": "code",
   "execution_count": 16,
   "metadata": {
    "collapsed": false
   },
   "outputs": [
    {
     "name": "stdout",
     "output_type": "stream",
     "text": [
      "          ONE  TWO  NEW THREE  FOUR\n",
      "INDIANA     0    1          2     3\n",
      "COLORADO    4    5          6     7\n",
      "NEW YORK    8    9         10    11\n"
     ]
    }
   ],
   "source": [
    "data=data.rename(index={'OHIO': 'INDIANA'},columns={'THREE': 'NEW THREE'})\n",
    "print data"
   ]
  }
 ],
 "metadata": {
  "kernelspec": {
   "display_name": "Python 2",
   "language": "python",
   "name": "python2"
  },
  "language_info": {
   "codemirror_mode": {
    "name": "ipython",
    "version": 2
   },
   "file_extension": ".py",
   "mimetype": "text/x-python",
   "name": "python",
   "nbconvert_exporter": "python",
   "pygments_lexer": "ipython2",
   "version": "2.7.10"
  }
 },
 "nbformat": 4,
 "nbformat_minor": 0
}
