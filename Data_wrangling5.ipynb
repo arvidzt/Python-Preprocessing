{
 "cells": [
  {
   "cell_type": "code",
   "execution_count": 7,
   "metadata": {
    "collapsed": false
   },
   "outputs": [
    {
     "name": "stdout",
     "output_type": "stream",
     "text": [
      "f    NaN\n",
      "e    2.5\n",
      "d    NaN\n",
      "c    3.5\n",
      "b    4.5\n",
      "a    NaN\n",
      "dtype: float64\n",
      "f    0\n",
      "e    1\n",
      "d    2\n",
      "c    3\n",
      "b    4\n",
      "a    5\n",
      "dtype: float64\n"
     ]
    }
   ],
   "source": [
    "import pandas as pd\n",
    "from pandas import *\n",
    "import numpy as np\n",
    "from numpy import *\n",
    "a = Series([np.nan, 2.5, np.nan, 3.5, 4.5, np.nan], \n",
    "            index=['f', 'e', 'd', 'c', 'b', 'a'])\n",
    "print a\n",
    "b = Series(np.arange(len(a), dtype=np.float64), \n",
    "            index=['f', 'e', 'd', 'c', 'b', 'a'])\n",
    "print b"
   ]
  },
  {
   "cell_type": "code",
   "execution_count": 13,
   "metadata": {
    "collapsed": false
   },
   "outputs": [
    {
     "data": {
      "text/plain": [
       "array([ 0. ,  2.5,  2. ,  3.5,  4.5,  5. ])"
      ]
     },
     "execution_count": 13,
     "metadata": {},
     "output_type": "execute_result"
    }
   ],
   "source": [
    "np.where(pd.isnull(a), b, a)"
   ]
  },
  {
   "cell_type": "code",
   "execution_count": 17,
   "metadata": {
    "collapsed": false
   },
   "outputs": [
    {
     "name": "stdout",
     "output_type": "stream",
     "text": [
      "a   NaN\n",
      "b     4\n",
      "c     3\n",
      "d     2\n",
      "e     1\n",
      "f     0\n",
      "dtype: float64\n"
     ]
    }
   ],
   "source": [
    "print (b[:-1].combine_first(a[1:]))"
   ]
  },
  {
   "cell_type": "code",
   "execution_count": null,
   "metadata": {
    "collapsed": true
   },
   "outputs": [],
   "source": []
  }
 ],
 "metadata": {
  "kernelspec": {
   "display_name": "Python 2",
   "language": "python",
   "name": "python2"
  },
  "language_info": {
   "codemirror_mode": {
    "name": "ipython",
    "version": 2
   },
   "file_extension": ".py",
   "mimetype": "text/x-python",
   "name": "python",
   "nbconvert_exporter": "python",
   "pygments_lexer": "ipython2",
   "version": "2.7.10"
  }
 },
 "nbformat": 4,
 "nbformat_minor": 0
}
