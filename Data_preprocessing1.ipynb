{
 "cells": [
  {
   "cell_type": "code",
   "execution_count": 1,
   "metadata": {
    "collapsed": false
   },
   "outputs": [
    {
     "data": {
      "text/html": [
       "<div>\n",
       "<table border=\"1\" class=\"dataframe\">\n",
       "  <thead>\n",
       "    <tr>\n",
       "      <th>b</th>\n",
       "      <th colspan=\"2\" halign=\"left\">one</th>\n",
       "      <th colspan=\"2\" halign=\"left\">two</th>\n",
       "    </tr>\n",
       "    <tr>\n",
       "      <th>c</th>\n",
       "      <th>dull</th>\n",
       "      <th>shiny</th>\n",
       "      <th>dull</th>\n",
       "      <th>shiny</th>\n",
       "    </tr>\n",
       "    <tr>\n",
       "      <th>a</th>\n",
       "      <th></th>\n",
       "      <th></th>\n",
       "      <th></th>\n",
       "      <th></th>\n",
       "    </tr>\n",
       "  </thead>\n",
       "  <tbody>\n",
       "    <tr>\n",
       "      <th>bar</th>\n",
       "      <td>1</td>\n",
       "      <td>2</td>\n",
       "      <td>1</td>\n",
       "      <td>0</td>\n",
       "    </tr>\n",
       "    <tr>\n",
       "      <th>foo</th>\n",
       "      <td>2</td>\n",
       "      <td>2</td>\n",
       "      <td>1</td>\n",
       "      <td>2</td>\n",
       "    </tr>\n",
       "  </tbody>\n",
       "</table>\n",
       "</div>"
      ],
      "text/plain": [
       "b    one        two      \n",
       "c   dull shiny dull shiny\n",
       "a                        \n",
       "bar    1     2    1     0\n",
       "foo    2     2    1     2"
      ]
     },
     "execution_count": 1,
     "metadata": {},
     "output_type": "execute_result"
    }
   ],
   "source": [
    "from pandas import *\n",
    "import pandas as pd\n",
    "a = pd.Series (['foo', 'foo', 'foo', 'foo', 'bar', 'bar','bar', 'bar', 'foo', 'foo', 'foo'], dtype=object)\n",
    "b = pd.Series (['one', 'one', 'one', 'two', 'one', 'one','one', 'two', 'two', 'two', 'one'], dtype=object)\n",
    "c = pd.Series (['dull', 'dull', 'shiny', 'dull', 'dull', 'shiny','shiny', 'dull', 'shiny', 'shiny', 'shiny'], dtype=object)\n",
    "crosstab(a, [b, c], rownames=['a'], colnames=['b', 'c'])"
   ]
  },
  {
   "cell_type": "code",
   "execution_count": 5,
   "metadata": {
    "collapsed": false
   },
   "outputs": [
    {
     "name": "stdout",
     "output_type": "stream",
     "text": [
      "DescribeResult(nobs=12L, minmax=(1, 9), mean=5.333333333333333, variance=7.3333333333333339, skewness=-0.08181400774059196, kurtosis=-1.2243016187418894)\n",
      "DescribeResult(nobs=12L, minmax=(1, 8), mean=4.583333333333333, variance=4.6287878787878789, skewness=-0.004634855776136406, kurtosis=-1.0059921622410741)\n",
      "            one       two\n",
      "count  3.000000  2.000000\n",
      "mean   3.083333 -2.900000\n",
      "std    3.493685  2.262742\n",
      "min    0.750000 -4.500000\n",
      "25%    1.075000 -3.700000\n",
      "50%    1.400000 -2.900000\n",
      "75%    4.250000 -2.100000\n",
      "max    7.100000 -1.300000\n"
     ]
    }
   ],
   "source": [
    "### Descriptive data summarization\n",
    "import scipy\n",
    "from scipy.stats import *\n",
    "x=[1,5,7,8,9,2,3,5,7,3,5,9]\n",
    "y=[2,4,5,1,3,3,7,8,7,6,4,5]\n",
    "print describe(x)\n",
    "print describe(y)\n",
    "z = DataFrame([[1.4, np.nan], [7.1, -4.5],[np.nan, np.nan], [0.75, -1.3]], index=['a', 'b', 'c', 'd'], columns=['one', 'two'])\n",
    "print z.describe()"
   ]
  },
  {
   "cell_type": "code",
   "execution_count": 9,
   "metadata": {
    "collapsed": false
   },
   "outputs": [
    {
     "name": "stdout",
     "output_type": "stream",
     "text": [
      "Row Mean=\n",
      "a    1.400\n",
      "b    1.300\n",
      "c      NaN\n",
      "d   -0.275\n",
      "dtype: float64\n",
      "Column Mean=\n",
      "one    3.083333\n",
      "two   -2.900000\n",
      "dtype: float64\n"
     ]
    }
   ],
   "source": [
    "### Row/column wise statistics\n",
    "print \"Row Mean=\"\n",
    "print z.mean(axis=1) ### Row wise\n",
    "print \"Column Mean=\"\n",
    "print z.mean(axis=0) ### Column wise\n"
   ]
  },
  {
   "cell_type": "code",
   "execution_count": 2,
   "metadata": {
    "collapsed": false
   },
   "outputs": [
    {
     "name": "stderr",
     "output_type": "stream",
     "text": [
      "C:\\Users\\Mohammad\\Anaconda\\lib\\site-packages\\matplotlib\\collections.py:590: FutureWarning: elementwise comparison failed; returning scalar instead, but in the future will perform elementwise comparison\n",
      "  if self._edgecolors == str('face'):\n"
     ]
    }
   ],
   "source": [
    "### Histogram, box plot and scatter plot\n",
    "from scipy import stats\n",
    "from pylab import *\n",
    "import matplotlib.pyplot as plt\n",
    "fig=plt.figure()\n",
    "ax1=fig.add_subplot(2,2,1)\n",
    "ax2=fig.add_subplot(2,2,2)\n",
    "ax3=fig.add_subplot(2,2,3)\n",
    "ax1.hist(x,bins=5,color='green',alpha=0.3)\n",
    "ax1.set_xlim([0,10])\n",
    "ax1.set_ylim([0,5])\n",
    "ax1.set_title('Histogram')\n",
    "ax2.boxplot(x,0,'gD')\n",
    "ax2.set_title('Box plot')\n",
    "ax2.set_ylim([-1,10])\n",
    "ax3.scatter(x,y)\n",
    "ax3.set_title('Scatter plot')\n",
    "show()"
   ]
  },
  {
   "cell_type": "code",
   "execution_count": 3,
   "metadata": {
    "collapsed": false
   },
   "outputs": [],
   "source": [
    "### Probability Mass Function\n",
    "import pandas as pd\n",
    "x=[1,5,7,8,9,2,3,5,7,3,5,9]\n",
    "df = pd.DataFrame([1,5,7,8,9,2,3,5,7,3,5,9],columns=['Probability Mass Function'])\n",
    "df.plot(kind='density',title='Density plot')\n",
    "show()"
   ]
  },
  {
   "cell_type": "code",
   "execution_count": 4,
   "metadata": {
    "collapsed": false
   },
   "outputs": [],
   "source": [
    "### Q-Q Plot for two samples\n",
    "import statsmodels.api as sm\n",
    "import numpy as np\n",
    "x=np.array([1,5,7,8,9,2,3,5,7,3,5,9])\n",
    "y=np.array([2,4,5,1,3,3,7,8,7,6,4,5])\n",
    "pp_x = sm.ProbPlot(x,fit=True)\n",
    "pp_y = sm.ProbPlot(y,fit=True)\n",
    "fig=pp_x.qqplot(line='45', other=pp_y)\n",
    "plt.show()"
   ]
  },
  {
   "cell_type": "code",
   "execution_count": 9,
   "metadata": {
    "collapsed": false
   },
   "outputs": [],
   "source": [
    "### Side-by-Side Boxplot\n",
    "df = pd.DataFrame(np.random.rand(10,2), columns=['Col1', 'Col2'] )\n",
    "df['X'] = pd.Series(['A','A','A','A','A','B','B','B','B','B'])\n",
    "fig2=plt.figure()\n",
    "bp = df.boxplot(by='X')\n",
    "show()"
   ]
  }
 ],
 "metadata": {
  "kernelspec": {
   "display_name": "Python [Root]",
   "language": "python",
   "name": "Python [Root]"
  },
  "language_info": {
   "codemirror_mode": {
    "name": "ipython",
    "version": 3
   },
   "file_extension": ".py",
   "mimetype": "text/x-python",
   "name": "python",
   "nbconvert_exporter": "python",
   "pygments_lexer": "ipython3",
   "version": "3.5.2"
  }
 },
 "nbformat": 4,
 "nbformat_minor": 0
}
