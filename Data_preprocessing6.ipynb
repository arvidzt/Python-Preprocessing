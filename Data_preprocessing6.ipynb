{
 "cells": [
  {
   "cell_type": "code",
   "execution_count": 4,
   "metadata": {
    "collapsed": false
   },
   "outputs": [
    {
     "name": "stdout",
     "output_type": "stream",
     "text": [
      "categories: [(18, 25], (18, 25], (18, 25], (25, 35], (18, 25], ..., (25, 35], (60, 100], (35, 60], (35, 60], (25, 35]]\n",
      "Length: 12\n",
      "Categories (4, object): [(18, 25] < (25, 35] < (35, 60] < (60, 100]]\n",
      "Label of categories: [0 0 0 1 0 0 2 1 3 2 2 1]\n",
      "Number of values in each category:\n",
      "(18, 25]     5\n",
      "(35, 60]     3\n",
      "(25, 35]     3\n",
      "(60, 100]    1\n",
      "dtype: int64\n"
     ]
    }
   ],
   "source": [
    "import pandas as pd\n",
    "ages = [20, 22, 25, 27, 21, 23, 37, 31, 61, 45, 41, 32]\n",
    "bins = [18, 25, 35, 60, 100]\n",
    "categories = pd.cut(ages, bins)\n",
    "print \"categories:\", categories\n",
    "print \"Label of categories:\", categories.codes ### Label of categories\n",
    "print \"Number of values in each category:\"\n",
    "print  pd.value_counts(categories)"
   ]
  },
  {
   "cell_type": "code",
   "execution_count": 7,
   "metadata": {
    "collapsed": false
   },
   "outputs": [
    {
     "name": "stdout",
     "output_type": "stream",
     "text": [
      "categories: [Youth, Youth, Youth, YoungAdult, Youth, ..., YoungAdult, Senior, MiddleAged, MiddleAged, YoungAdult]\n",
      "Length: 12\n",
      "Categories (4, object): [Youth < YoungAdult < MiddleAged < Senior]\n",
      "Label of categories: [0 0 0 1 0 0 2 1 3 2 2 1]\n",
      "Number of values in each category:\n",
      "Youth         5\n",
      "MiddleAged    3\n",
      "YoungAdult    3\n",
      "Senior        1\n",
      "dtype: int64\n"
     ]
    }
   ],
   "source": [
    "group_names = ['Youth', 'YoungAdult', 'MiddleAged', 'Senior']\n",
    "categories=pd.cut(ages, bins, labels=group_names)\n",
    "print \"categories:\", categories\n",
    "print \"Label of categories:\", categories.codes\n",
    "print \"Number of values in each category:\"\n",
    "print  pd.value_counts(categories)"
   ]
  },
  {
   "cell_type": "code",
   "execution_count": null,
   "metadata": {
    "collapsed": true
   },
   "outputs": [],
   "source": []
  }
 ],
 "metadata": {
  "kernelspec": {
   "display_name": "Python 2",
   "language": "python",
   "name": "python2"
  },
  "language_info": {
   "codemirror_mode": {
    "name": "ipython",
    "version": 2
   },
   "file_extension": ".py",
   "mimetype": "text/x-python",
   "name": "python",
   "nbconvert_exporter": "python",
   "pygments_lexer": "ipython2",
   "version": "2.7.10"
  }
 },
 "nbformat": 4,
 "nbformat_minor": 0
}
