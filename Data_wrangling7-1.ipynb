{
 "cells": [
  {
   "cell_type": "code",
   "execution_count": 33,
   "metadata": {
    "collapsed": false
   },
   "outputs": [
    {
     "data": {
      "text/html": [
       "<div>\n",
       "<table border=\"1\" class=\"dataframe\">\n",
       "  <thead>\n",
       "    <tr style=\"text-align: right;\">\n",
       "      <th></th>\n",
       "      <th>a</th>\n",
       "      <th>b</th>\n",
       "      <th>c</th>\n",
       "    </tr>\n",
       "  </thead>\n",
       "  <tbody>\n",
       "    <tr>\n",
       "      <th>0</th>\n",
       "      <td>-0.439098</td>\n",
       "      <td>-0.189403</td>\n",
       "      <td>-2.097760</td>\n",
       "    </tr>\n",
       "    <tr>\n",
       "      <th>1</th>\n",
       "      <td>0.056900</td>\n",
       "      <td>1.117875</td>\n",
       "      <td>-0.603747</td>\n",
       "    </tr>\n",
       "    <tr>\n",
       "      <th>2</th>\n",
       "      <td>-1.169321</td>\n",
       "      <td>-0.428659</td>\n",
       "      <td>0.854044</td>\n",
       "    </tr>\n",
       "    <tr>\n",
       "      <th>3</th>\n",
       "      <td>-0.366436</td>\n",
       "      <td>1.397263</td>\n",
       "      <td>-0.340430</td>\n",
       "    </tr>\n",
       "    <tr>\n",
       "      <th>4</th>\n",
       "      <td>0.494831</td>\n",
       "      <td>0.411069</td>\n",
       "      <td>-0.180972</td>\n",
       "    </tr>\n",
       "  </tbody>\n",
       "</table>\n",
       "</div>"
      ],
      "text/plain": [
       "          a         b         c\n",
       "0 -0.439098 -0.189403 -2.097760\n",
       "1  0.056900  1.117875 -0.603747\n",
       "2 -1.169321 -0.428659  0.854044\n",
       "3 -0.366436  1.397263 -0.340430\n",
       "4  0.494831  0.411069 -0.180972"
      ]
     },
     "execution_count": 33,
     "metadata": {},
     "output_type": "execute_result"
    }
   ],
   "source": [
    "import pandas as pd\n",
    "from pandas import *\n",
    "import numpy as np\n",
    "from numpy.random import randn\n",
    "data=DataFrame(np.random.randn(5,3),columns=['a','b','c'])\n",
    "data"
   ]
  },
  {
   "cell_type": "code",
   "execution_count": 34,
   "metadata": {
    "collapsed": false
   },
   "outputs": [
    {
     "data": {
      "text/html": [
       "<div>\n",
       "<table border=\"1\" class=\"dataframe\">\n",
       "  <thead>\n",
       "    <tr style=\"text-align: right;\">\n",
       "      <th></th>\n",
       "      <th>a</th>\n",
       "      <th>b</th>\n",
       "      <th>c</th>\n",
       "      <th>d</th>\n",
       "    </tr>\n",
       "  </thead>\n",
       "  <tbody>\n",
       "    <tr>\n",
       "      <th>0</th>\n",
       "      <td>-0.439098</td>\n",
       "      <td>-0.189403</td>\n",
       "      <td>-2.097760</td>\n",
       "      <td>0.299606</td>\n",
       "    </tr>\n",
       "    <tr>\n",
       "      <th>1</th>\n",
       "      <td>0.056900</td>\n",
       "      <td>1.117875</td>\n",
       "      <td>-0.603747</td>\n",
       "      <td>-1.945806</td>\n",
       "    </tr>\n",
       "    <tr>\n",
       "      <th>2</th>\n",
       "      <td>-1.169321</td>\n",
       "      <td>-0.428659</td>\n",
       "      <td>0.854044</td>\n",
       "      <td>-1.871075</td>\n",
       "    </tr>\n",
       "    <tr>\n",
       "      <th>3</th>\n",
       "      <td>-0.366436</td>\n",
       "      <td>1.397263</td>\n",
       "      <td>-0.340430</td>\n",
       "      <td>-3.028018</td>\n",
       "    </tr>\n",
       "    <tr>\n",
       "      <th>4</th>\n",
       "      <td>0.494831</td>\n",
       "      <td>0.411069</td>\n",
       "      <td>-0.180972</td>\n",
       "      <td>-5.005754</td>\n",
       "    </tr>\n",
       "  </tbody>\n",
       "</table>\n",
       "</div>"
      ],
      "text/plain": [
       "          a         b         c         d\n",
       "0 -0.439098 -0.189403 -2.097760  0.299606\n",
       "1  0.056900  1.117875 -0.603747 -1.945806\n",
       "2 -1.169321 -0.428659  0.854044 -1.871075\n",
       "3 -0.366436  1.397263 -0.340430 -3.028018\n",
       "4  0.494831  0.411069 -0.180972 -5.005754"
      ]
     },
     "execution_count": 34,
     "metadata": {},
     "output_type": "execute_result"
    }
   ],
   "source": [
    "### Writing equation\n",
    "data['d']=(data.a+data.b)/data.c\n",
    "data"
   ]
  },
  {
   "cell_type": "code",
   "execution_count": 35,
   "metadata": {
    "collapsed": false
   },
   "outputs": [
    {
     "data": {
      "text/html": [
       "<div>\n",
       "<table border=\"1\" class=\"dataframe\">\n",
       "  <thead>\n",
       "    <tr style=\"text-align: right;\">\n",
       "      <th></th>\n",
       "      <th>a</th>\n",
       "      <th>b</th>\n",
       "      <th>c</th>\n",
       "      <th>d</th>\n",
       "      <th>e</th>\n",
       "    </tr>\n",
       "  </thead>\n",
       "  <tbody>\n",
       "    <tr>\n",
       "      <th>0</th>\n",
       "      <td>-0.439098</td>\n",
       "      <td>-0.189403</td>\n",
       "      <td>-2.097760</td>\n",
       "      <td>0.299606</td>\n",
       "      <td>2.397366</td>\n",
       "    </tr>\n",
       "    <tr>\n",
       "      <th>1</th>\n",
       "      <td>0.056900</td>\n",
       "      <td>1.117875</td>\n",
       "      <td>-0.603747</td>\n",
       "      <td>-1.945806</td>\n",
       "      <td>3.063681</td>\n",
       "    </tr>\n",
       "    <tr>\n",
       "      <th>2</th>\n",
       "      <td>-1.169321</td>\n",
       "      <td>-0.428659</td>\n",
       "      <td>0.854044</td>\n",
       "      <td>-1.871075</td>\n",
       "      <td>2.725119</td>\n",
       "    </tr>\n",
       "    <tr>\n",
       "      <th>3</th>\n",
       "      <td>-0.366436</td>\n",
       "      <td>1.397263</td>\n",
       "      <td>-0.340430</td>\n",
       "      <td>-3.028018</td>\n",
       "      <td>4.425281</td>\n",
       "    </tr>\n",
       "    <tr>\n",
       "      <th>4</th>\n",
       "      <td>0.494831</td>\n",
       "      <td>0.411069</td>\n",
       "      <td>-0.180972</td>\n",
       "      <td>-5.005754</td>\n",
       "      <td>5.500584</td>\n",
       "    </tr>\n",
       "  </tbody>\n",
       "</table>\n",
       "</div>"
      ],
      "text/plain": [
       "          a         b         c         d         e\n",
       "0 -0.439098 -0.189403 -2.097760  0.299606  2.397366\n",
       "1  0.056900  1.117875 -0.603747 -1.945806  3.063681\n",
       "2 -1.169321 -0.428659  0.854044 -1.871075  2.725119\n",
       "3 -0.366436  1.397263 -0.340430 -3.028018  4.425281\n",
       "4  0.494831  0.411069 -0.180972 -5.005754  5.500584"
      ]
     },
     "execution_count": 35,
     "metadata": {},
     "output_type": "execute_result"
    }
   ],
   "source": [
    "### Using apply() and lambda\n",
    "data['e']=data.apply(lambda x: x.max()-x.min(), axis=1)\n",
    "data"
   ]
  },
  {
   "cell_type": "code",
   "execution_count": null,
   "metadata": {
    "collapsed": true
   },
   "outputs": [],
   "source": []
  }
 ],
 "metadata": {
  "kernelspec": {
   "display_name": "Python 2",
   "language": "python",
   "name": "python2"
  },
  "language_info": {
   "codemirror_mode": {
    "name": "ipython",
    "version": 2
   },
   "file_extension": ".py",
   "mimetype": "text/x-python",
   "name": "python",
   "nbconvert_exporter": "python",
   "pygments_lexer": "ipython2",
   "version": "2.7.10"
  }
 },
 "nbformat": 4,
 "nbformat_minor": 0
}
