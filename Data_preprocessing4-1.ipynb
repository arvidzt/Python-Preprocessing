{
 "cells": [
  {
   "cell_type": "code",
   "execution_count": 3,
   "metadata": {
    "collapsed": false
   },
   "outputs": [
    {
     "name": "stdout",
     "output_type": "stream",
     "text": [
      "      data1     data2 key1 key2\n",
      "0 -1.489543  0.731532    a  one\n",
      "1  1.661990 -0.901201    a  two\n",
      "2  1.647422  0.318584    b  one\n",
      "3 -0.769756 -0.576059    b  two\n",
      "4 -1.831220  1.559653    a  one\n"
     ]
    }
   ],
   "source": [
    "import pandas\n",
    "from pandas import *\n",
    "df = DataFrame({'key1' : ['a', 'a', 'b', 'b', 'a'], 'key2' : ['one', 'two', 'one', 'two', 'one'],\n",
    "                'data1' : np.random.randn(5), 'data2' : np.random.randn(5)})\n",
    "print df"
   ]
  },
  {
   "cell_type": "code",
   "execution_count": 5,
   "metadata": {
    "collapsed": false
   },
   "outputs": [
    {
     "name": "stdout",
     "output_type": "stream",
     "text": [
      "key1\n",
      "a   -0.552925\n",
      "b    0.438833\n",
      "Name: data1, dtype: float64\n"
     ]
    }
   ],
   "source": [
    "### Means of data1 for sub-groups of key1\n",
    "means = df['data1'].groupby([df['key1']]).mean()\n",
    "print means"
   ]
  },
  {
   "cell_type": "code",
   "execution_count": 6,
   "metadata": {
    "collapsed": false
   },
   "outputs": [
    {
     "name": "stdout",
     "output_type": "stream",
     "text": [
      "key1  key2\n",
      "a     one    -1.660382\n",
      "      two     1.661990\n",
      "b     one     1.647422\n",
      "      two    -0.769756\n",
      "Name: data1, dtype: float64\n"
     ]
    }
   ],
   "source": [
    "### Means of data1 for sub-groups of key1 and key2\n",
    "means = df['data1'].groupby([df['key1'], df['key2']]).mean()\n",
    "print means"
   ]
  },
  {
   "cell_type": "code",
   "execution_count": 7,
   "metadata": {
    "collapsed": false
   },
   "outputs": [
    {
     "name": "stdout",
     "output_type": "stream",
     "text": [
      "         data1     data2\n",
      "key1                    \n",
      "a    -0.552925  0.463328\n",
      "b     0.438833 -0.128738\n"
     ]
    }
   ],
   "source": [
    "### Means of data1 and data2 for sub-groups of key1\n",
    "means=df.groupby('key1').mean()\n",
    "print means"
   ]
  },
  {
   "cell_type": "code",
   "execution_count": 26,
   "metadata": {
    "collapsed": false
   },
   "outputs": [
    {
     "name": "stdout",
     "output_type": "stream",
     "text": [
      "      quantile_data1  quantile_data2\n",
      "key1                                \n",
      "a           1.031683        1.394029\n",
      "b           1.405704        0.229120\n"
     ]
    }
   ],
   "source": [
    "### Quantile of data1 and data2 for sub-groups of key1\n",
    "quantile=df.groupby('key1').quantile(0.9).add_prefix('quantile_')\n",
    "print quantile"
   ]
  },
  {
   "cell_type": "code",
   "execution_count": 17,
   "metadata": {
    "collapsed": false
   },
   "outputs": [
    {
     "name": "stdout",
     "output_type": "stream",
     "text": [
      "           mean_data1  mean_data2\n",
      "key1 key2                        \n",
      "a    one    -1.660382    1.145593\n",
      "     two     1.661990   -0.901201\n",
      "b    one     1.647422    0.318584\n",
      "     two    -0.769756   -0.576059\n"
     ]
    }
   ],
   "source": [
    "### Mean of data1 and data2 sub-groups of key1 and key2\n",
    "means=df.groupby(['key1', 'key2']).mean().add_prefix('mean_')\n",
    "print means"
   ]
  },
  {
   "cell_type": "code",
   "execution_count": 28,
   "metadata": {
    "collapsed": false
   },
   "outputs": [
    {
     "name": "stdout",
     "output_type": "stream",
     "text": [
      "               data1     data2\n",
      "key1                          \n",
      "a    count  3.000000  3.000000\n",
      "     mean  -0.552925  0.463328\n",
      "     std    1.925765  1.252159\n",
      "     min   -1.831220 -0.901201\n",
      "     25%   -1.660382 -0.084835\n",
      "     50%   -1.489543  0.731532\n",
      "     75%    0.086223  1.145593\n",
      "     max    1.661990  1.559653\n",
      "b    count  2.000000  2.000000\n",
      "     mean   0.438833 -0.128738\n",
      "     std    1.709203  0.632608\n",
      "     min   -0.769756 -0.576059\n",
      "     25%   -0.165462 -0.352398\n",
      "     50%    0.438833 -0.128738\n",
      "     75%    1.043127  0.094923\n",
      "     max    1.647422  0.318584\n"
     ]
    }
   ],
   "source": [
    "### Summary of data1 and data2 for sub-groups of key1 and key2\n",
    "summary=df.groupby('key1').describe()\n",
    "print summary"
   ]
  },
  {
   "cell_type": "code",
   "execution_count": 21,
   "metadata": {
    "collapsed": false
   },
   "outputs": [
    {
     "name": "stdout",
     "output_type": "stream",
     "text": [
      "key1  key2\n",
      "a     one     2\n",
      "      two     1\n",
      "b     one     1\n",
      "      two     1\n",
      "dtype: int64\n"
     ]
    }
   ],
   "source": [
    "### Number of data1 and data2 pairs for sub-groups of key1 and key2\n",
    "size=df.groupby(['key1', 'key2']).size()\n",
    "print size"
   ]
  },
  {
   "cell_type": "code",
   "execution_count": 10,
   "metadata": {
    "collapsed": false
   },
   "outputs": [
    {
     "name": "stdout",
     "output_type": "stream",
     "text": [
      "a\n",
      "      data1     data2 key1 key2\n",
      "0 -1.489543  0.731532    a  one\n",
      "1  1.661990 -0.901201    a  two\n",
      "4 -1.831220  1.559653    a  one\n",
      "b\n",
      "      data1     data2 key1 key2\n",
      "2  1.647422  0.318584    b  one\n",
      "3 -0.769756 -0.576059    b  two\n"
     ]
    }
   ],
   "source": [
    "### Spliting data for sub-groups of key1\n",
    "for name, group in df.groupby('key1'):\n",
    "    print name\n",
    "    print group"
   ]
  },
  {
   "cell_type": "code",
   "execution_count": 11,
   "metadata": {
    "collapsed": false
   },
   "outputs": [
    {
     "name": "stdout",
     "output_type": "stream",
     "text": [
      "a one\n",
      "      data1     data2 key1 key2\n",
      "0 -1.489543  0.731532    a  one\n",
      "4 -1.831220  1.559653    a  one\n",
      "a two\n",
      "     data1     data2 key1 key2\n",
      "1  1.66199 -0.901201    a  two\n",
      "b one\n",
      "      data1     data2 key1 key2\n",
      "2  1.647422  0.318584    b  one\n",
      "b two\n",
      "      data1     data2 key1 key2\n",
      "3 -0.769756 -0.576059    b  two\n"
     ]
    }
   ],
   "source": [
    "### Spliting data for sub-groups of both key1 and key2\n",
    "for (k1, k2), group in df.groupby(['key1', 'key2']):\n",
    "    print k1, k2\n",
    "    print group"
   ]
  },
  {
   "cell_type": "code",
   "execution_count": null,
   "metadata": {
    "collapsed": true
   },
   "outputs": [],
   "source": []
  }
 ],
 "metadata": {
  "kernelspec": {
   "display_name": "Python 2",
   "language": "python",
   "name": "python2"
  },
  "language_info": {
   "codemirror_mode": {
    "name": "ipython",
    "version": 2
   },
   "file_extension": ".py",
   "mimetype": "text/x-python",
   "name": "python",
   "nbconvert_exporter": "python",
   "pygments_lexer": "ipython2",
   "version": "2.7.10"
  }
 },
 "nbformat": 4,
 "nbformat_minor": 0
}
