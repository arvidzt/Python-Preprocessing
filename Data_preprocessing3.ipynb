{
 "cells": [
  {
   "cell_type": "code",
   "execution_count": 4,
   "metadata": {
    "collapsed": true
   },
   "outputs": [],
   "source": [
    "import pandas as pd\n",
    "from pandas import *"
   ]
  },
  {
   "cell_type": "code",
   "execution_count": 8,
   "metadata": {
    "collapsed": false
   },
   "outputs": [
    {
     "name": "stdout",
     "output_type": "stream",
     "text": [
      "   a  b  c\n",
      "0  1  2  3\n",
      "1  7  0 -1\n",
      "2  0  2  4\n",
      "3  5  2  3\n",
      "4  2  4  1\n",
      "corr(a,b)= -0.606339062591\n",
      "corr(b,a)= -0.606339062591\n",
      "corr(a,c)= -0.728868986856\n",
      "corr(b,c)= 0.353553390593\n",
      "correlation matrix:\n",
      "          a         b         c\n",
      "a  1.000000 -0.606339 -0.728869\n",
      "b -0.606339  1.000000  0.353553\n",
      "c -0.728869  0.353553  1.000000\n"
     ]
    }
   ],
   "source": [
    "s1=DataFrame([[1,2,3],[7,0,-1],[0,2,4],[5,2,3],[2,4,1]],columns=['a','b','c'])\n",
    "print s1\n",
    "print \"corr(a,b)=\" , s1.a.corr(s1.b)\n",
    "print \"corr(b,a)=\" , s1.b.corr(s1.a)\n",
    "print \"corr(a,c)=\" , s1.a.corr(s1.c)\n",
    "print \"corr(b,c)=\" , s1.b.corr(s1.c)\n",
    "print \"correlation matrix:\"\n",
    "print s1.corr()"
   ]
  },
  {
   "cell_type": "code",
   "execution_count": null,
   "metadata": {
    "collapsed": true
   },
   "outputs": [],
   "source": []
  }
 ],
 "metadata": {
  "kernelspec": {
   "display_name": "Python 2",
   "language": "python",
   "name": "python2"
  },
  "language_info": {
   "codemirror_mode": {
    "name": "ipython",
    "version": 2
   },
   "file_extension": ".py",
   "mimetype": "text/x-python",
   "name": "python",
   "nbconvert_exporter": "python",
   "pygments_lexer": "ipython2",
   "version": "2.7.10"
  }
 },
 "nbformat": 4,
 "nbformat_minor": 0
}
