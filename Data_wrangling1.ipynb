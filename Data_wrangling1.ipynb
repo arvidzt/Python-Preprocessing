{
 "cells": [
  {
   "cell_type": "code",
   "execution_count": 1,
   "metadata": {
    "collapsed": false
   },
   "outputs": [],
   "source": [
    "### Opening and parsing URL\n",
    "from lxml.html import parse \n",
    "from urllib2 import urlopen\n",
    "parsed = parse(urlopen('http://finance.yahoo.com/q/op?s=AAPL+Options'))\n",
    "doc = parsed.getroot()"
   ]
  },
  {
   "cell_type": "code",
   "execution_count": 2,
   "metadata": {
    "collapsed": false
   },
   "outputs": [
    {
     "data": {
      "text/plain": [
       "[<Element a at 0x854dd18>,\n",
       " <Element a at 0x854dd68>,\n",
       " <Element a at 0x854ddb8>,\n",
       " <Element a at 0x854de08>,\n",
       " <Element a at 0x854de58>]"
      ]
     },
     "execution_count": 2,
     "metadata": {},
     "output_type": "execute_result"
    }
   ],
   "source": [
    "### Extracting links tags\n",
    "links = doc.findall('.//a')\n",
    "links[10:15]"
   ]
  },
  {
   "cell_type": "code",
   "execution_count": 3,
   "metadata": {
    "collapsed": false
   },
   "outputs": [
    {
     "data": {
      "text/plain": [
       "['https://mobile.yahoo.com/',\n",
       " 'http://everything.yahoo.com/',\n",
       " 'https://www.yahoo.com/politics',\n",
       " 'https://www.yahoo.com/movies',\n",
       " 'https://www.yahoo.com/music']"
      ]
     },
     "execution_count": 3,
     "metadata": {},
     "output_type": "execute_result"
    }
   ],
   "source": [
    "### Changing HTML elements to text\n",
    "urls = [lnk.get('href') for lnk in doc.findall('.//a')]\n",
    "urls[10:15]"
   ]
  },
  {
   "cell_type": "code",
   "execution_count": 4,
   "metadata": {
    "collapsed": false
   },
   "outputs": [],
   "source": [
    "### Extracting table tags and assigning example to the first table\n",
    "tables = doc.findall('.//table') \n",
    "example=tables[2]"
   ]
  },
  {
   "cell_type": "code",
   "execution_count": 5,
   "metadata": {
    "collapsed": true
   },
   "outputs": [],
   "source": [
    "### Extracting all rows of example table\n",
    "rows = example.findall('.//tr')\n",
    "### Extracting all elements of rows including headers row\n",
    "def _unpack(row, kind='td'): ### th kind refers to header row and td refers to other rows   \n",
    "    elts = row.findall('.//%s' % kind)    \n",
    "    return [val.text_content() for val in elts]"
   ]
  },
  {
   "cell_type": "code",
   "execution_count": 6,
   "metadata": {
    "collapsed": false
   },
   "outputs": [
    {
     "name": "stdout",
     "output_type": "stream",
     "text": [
      "[u'\\n                \\n                     Strike\\n                    \\n                        \\ue004\\n                        \\ue002\\n                    \\n                \\n                \\u2235 Filter\\n            ', 'Contract Name', u'\\n                \\n                    Last\\n                    \\n                        \\ue004\\n                        \\ue002\\n                    \\n                \\n            ', u'\\n                \\n                    Bid\\n                    \\n                        \\ue004\\n                        \\ue002\\n                    \\n                \\n            ', u'\\n                \\n                    Ask\\n                    \\n                        \\ue004\\n                        \\ue002\\n                    \\n                \\n            ', u'\\n                \\n                    Change\\n                    \\n                        \\ue004\\n                        \\ue002\\n                    \\n                \\n            ', u'\\n                \\n                    %Change\\n                    \\n                        \\ue004\\n                        \\ue002\\n                    \\n                \\n            ', u'\\n                \\n                    Volume\\n                    \\n                        \\ue004\\n                        \\ue002\\n                    \\n                \\n            ', u'\\n                \\n                    Open Interest\\n                    \\n                        \\ue004\\n                        \\ue002\\n                    \\n                \\n            ', u'\\n                \\n                    Implied Volatility\\n                    \\n                        \\ue004\\n                        \\ue002\\n                    \\n                \\n            ']\n"
     ]
    }
   ],
   "source": [
    "### Unpack header row\n",
    "print (_unpack(rows[0], kind='th'))"
   ]
  },
  {
   "cell_type": "code",
   "execution_count": 7,
   "metadata": {
    "collapsed": false
   },
   "outputs": [
    {
     "name": "stdout",
     "output_type": "stream",
     "text": [
      "['\\n            78.00\\n        ', '\\n            AAPL160603P00078000\\n        ', '\\n            0.01\\n        ', '\\n            0.00\\n        ', '\\n            0.02\\n        ', '\\n            0.00\\n        ', '\\n            \\n                0.00%\\n            \\n        ', '\\n            2\\n        ', '\\n            31\\n        ', '\\n            68.75%\\n        ']\n"
     ]
    }
   ],
   "source": [
    "### Unpack fifth row\n",
    "print (_unpack(rows[5], kind='td'))"
   ]
  },
  {
   "cell_type": "code",
   "execution_count": 8,
   "metadata": {
    "collapsed": true
   },
   "outputs": [],
   "source": [
    "### Parsing all elements of the tables including header rows\n",
    "from pandas.io.parsers import TextParser\n",
    "def parse_options_data(table):\n",
    "    rows = table.findall('.//tr')\n",
    "    header = _unpack(rows[0], kind='th')    \n",
    "    data = [_unpack(r) for r in rows[1:]]    \n",
    "    return TextParser(data, names=header).get_chunk()"
   ]
  },
  {
   "cell_type": "code",
   "execution_count": 10,
   "metadata": {
    "collapsed": false
   },
   "outputs": [
    {
     "data": {
      "text/html": [
       "<div>\n",
       "<table border=\"1\" class=\"dataframe\">\n",
       "  <thead>\n",
       "    <tr style=\"text-align: right;\">\n",
       "      <th></th>\n",
       "      <th>Strike\n",
       "                    \n",
       "                        \n",
       "                        \n",
       "                    \n",
       "                \n",
       "                ∵ Filter</th>\n",
       "      <th>Contract Name</th>\n",
       "      <th>Last\n",
       "                    \n",
       "                        \n",
       "                        </th>\n",
       "      <th>Bid\n",
       "                    \n",
       "                        \n",
       "                        </th>\n",
       "      <th>Ask\n",
       "                    \n",
       "                        \n",
       "                        </th>\n",
       "      <th>Change\n",
       "                    \n",
       "                        \n",
       "                        </th>\n",
       "      <th>%Change\n",
       "                    \n",
       "                        \n",
       "                        </th>\n",
       "      <th>Volume\n",
       "                    \n",
       "                        \n",
       "                        </th>\n",
       "      <th>Open Interest\n",
       "                    \n",
       "                        \n",
       "                        </th>\n",
       "      <th>Implied Volatility\n",
       "                    \n",
       "                        \n",
       "                        </th>\n",
       "    </tr>\n",
       "  </thead>\n",
       "  <tbody>\n",
       "    <tr>\n",
       "      <th>1</th>\n",
       "      <td>\\n            75.00\\n</td>\n",
       "      <td>\\n            AAPL160603P00075000\\n</td>\n",
       "      <td>0.01</td>\n",
       "      <td>0.0</td>\n",
       "      <td>0.01</td>\n",
       "      <td>0.0</td>\n",
       "      <td>\\n            \\n                0.00%\\n       ...</td>\n",
       "      <td>1.0</td>\n",
       "      <td>185.0</td>\n",
       "      <td>\\n            71.88%\\n</td>\n",
       "    </tr>\n",
       "    <tr>\n",
       "      <th>2</th>\n",
       "      <td>\\n            76.00\\n</td>\n",
       "      <td>\\n            AAPL160603P00076000\\n</td>\n",
       "      <td>0.07</td>\n",
       "      <td>0.0</td>\n",
       "      <td>0.01</td>\n",
       "      <td>0.0</td>\n",
       "      <td>\\n            \\n                0.00%\\n       ...</td>\n",
       "      <td>1.0</td>\n",
       "      <td>11.0</td>\n",
       "      <td>\\n            68.75%\\n</td>\n",
       "    </tr>\n",
       "  </tbody>\n",
       "</table>\n",
       "</div>"
      ],
      "text/plain": [
       "  \\n                \\n                     Strike\\n                    \\n                        \\n                        \\n                    \\n                \\n                ∵ Filter\\n              \\\n",
       "1                      \\n            75.00\\n                                                                                                                                                                    \n",
       "2                      \\n            76.00\\n                                                                                                                                                                    \n",
       "\n",
       "                                 Contract Name  \\\n",
       "1  \\n            AAPL160603P00075000\\n           \n",
       "2  \\n            AAPL160603P00076000\\n           \n",
       "\n",
       "   \\n                \\n                    Last\\n                    \\n                        \\n                        \\n                    \\n                \\n              \\\n",
       "1                                               0.01                                                                                                                                \n",
       "2                                               0.07                                                                                                                                \n",
       "\n",
       "   \\n                \\n                    Bid\\n                    \\n                        \\n                        \\n                    \\n                \\n              \\\n",
       "1                                                0.0                                                                                                                               \n",
       "2                                                0.0                                                                                                                               \n",
       "\n",
       "   \\n                \\n                    Ask\\n                    \\n                        \\n                        \\n                    \\n                \\n              \\\n",
       "1                                               0.01                                                                                                                               \n",
       "2                                               0.01                                                                                                                               \n",
       "\n",
       "   \\n                \\n                    Change\\n                    \\n                        \\n                        \\n                    \\n                \\n              \\\n",
       "1                                                0.0                                                                                                                                  \n",
       "2                                                0.0                                                                                                                                  \n",
       "\n",
       "  \\n                \\n                    %Change\\n                    \\n                        \\n                        \\n                    \\n                \\n              \\\n",
       "1  \\n            \\n                0.00%\\n       ...                                                                                                                                  \n",
       "2  \\n            \\n                0.00%\\n       ...                                                                                                                                  \n",
       "\n",
       "   \\n                \\n                    Volume\\n                    \\n                        \\n                        \\n                    \\n                \\n              \\\n",
       "1                                                1.0                                                                                                                                  \n",
       "2                                                1.0                                                                                                                                  \n",
       "\n",
       "   \\n                \\n                    Open Interest\\n                    \\n                        \\n                        \\n                    \\n                \\n              \\\n",
       "1                                              185.0                                                                                                                                         \n",
       "2                                               11.0                                                                                                                                         \n",
       "\n",
       "  \\n                \\n                    Implied Volatility\\n                    \\n                        \\n                        \\n                    \\n                \\n              \n",
       "1                     \\n            71.88%\\n                                                                                                                                                    \n",
       "2                     \\n            68.75%\\n                                                                                                                                                    "
      ]
     },
     "execution_count": 10,
     "metadata": {},
     "output_type": "execute_result"
    }
   ],
   "source": [
    "example_data = parse_options_data(example)\n",
    "example_data[1:3]"
   ]
  },
  {
   "cell_type": "code",
   "execution_count": null,
   "metadata": {
    "collapsed": true
   },
   "outputs": [],
   "source": []
  }
 ],
 "metadata": {
  "kernelspec": {
   "display_name": "Python 2",
   "language": "python",
   "name": "python2"
  },
  "language_info": {
   "codemirror_mode": {
    "name": "ipython",
    "version": 2
   },
   "file_extension": ".py",
   "mimetype": "text/x-python",
   "name": "python",
   "nbconvert_exporter": "python",
   "pygments_lexer": "ipython2",
   "version": "2.7.11"
  }
 },
 "nbformat": 4,
 "nbformat_minor": 0
}
