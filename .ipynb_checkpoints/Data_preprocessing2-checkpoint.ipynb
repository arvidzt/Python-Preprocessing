{
 "cells": [
  {
   "cell_type": "code",
   "execution_count": 1,
   "metadata": {
    "collapsed": false
   },
   "outputs": [
    {
     "name": "stdout",
     "output_type": "stream",
     "text": [
      "   data\n",
      "0     1\n",
      "1     5\n",
      "2     9\n",
      "3   NaN\n",
      "Mean= 5.0\n",
      "   data\n",
      "0     1\n",
      "1     5\n",
      "2     9\n",
      "   data\n",
      "0     1\n",
      "1     5\n",
      "2     9\n",
      "3     5\n"
     ]
    }
   ],
   "source": [
    "### Working with NaN in Pandas DataFrame\n",
    "import numpy as np\n",
    "import pandas as pd\n",
    "import scipy\n",
    "x=[1,5,9,np.NaN]\n",
    "x=pd.DataFrame(x,columns=['data'])\n",
    "print x\n",
    "print \"Mean=\", (scipy.mean(x['data']))\n",
    "print x.dropna() ### Removing strategy \n",
    "print x.fillna(scipy.mean(x['data'])) ### Mean strategy"
   ]
  },
  {
   "cell_type": "code",
   "execution_count": 2,
   "metadata": {
    "collapsed": false
   },
   "outputs": [
    {
     "name": "stdout",
     "output_type": "stream",
     "text": [
      "Min-Max:\n",
      "   data\n",
      "0  -0.5\n",
      "1   0.0\n",
      "2   0.5\n",
      "3   0.0\n",
      "Z-score:\n",
      "[[-1.41421356]\n",
      " [ 0.        ]\n",
      " [ 1.41421356]\n",
      " [ 0.        ]]\n"
     ]
    }
   ],
   "source": [
    "### Normalizing \n",
    "from sklearn import preprocessing\n",
    "y=x.fillna(scipy.mean(x['data'])) \n",
    "y_norm = (y - y.mean()) / (y.max() - y.min()) ### Min-Max\n",
    "print \"Min-Max:\"\n",
    "print y_norm\n",
    "y_scaled = preprocessing.scale(y) ### z-score\n",
    "print \"Z-score:\"\n",
    "print y_scaled"
   ]
  },
  {
   "cell_type": "code",
   "execution_count": 3,
   "metadata": {
    "collapsed": false
   },
   "outputs": [
    {
     "name": "stdout",
     "output_type": "stream",
     "text": [
      "[[ 1.  5.  9.  5.]]\n"
     ]
    }
   ],
   "source": [
    "### Working with NaN using sklearn\n",
    "import numpy as np\n",
    "from sklearn.preprocessing import Imputer\n",
    "imp = Imputer(missing_values='NaN', strategy='mean', axis=1) ### Mean strategy\n",
    "imp.fit([1,5,9,np.NaN])\n",
    "X = [1,5,9,np.NaN]\n",
    "y = imp.transform(X)\n",
    "print y"
   ]
  },
  {
   "cell_type": "code",
   "execution_count": 6,
   "metadata": {
    "collapsed": false
   },
   "outputs": [
    {
     "name": "stdout",
     "output_type": "stream",
     "text": [
      "data:\n",
      "          0         1\n",
      "0  1.624345 -0.611756\n",
      "1 -0.528172 -1.072969\n",
      "2  0.865408 -2.301539\n",
      "3  1.744812 -0.761207\n",
      "4  0.319039 -0.249370\n",
      "5  1.462108 -2.060141\n",
      "6 -0.322417 -0.384054\n",
      "7  1.133769 -1.099891\n",
      "8 -0.172428 -0.877858\n",
      "9  0.042214  0.582815\n",
      "Outliers:\n",
      "          0         1\n",
      "0  1.624345 -0.611756\n",
      "2  0.865408 -2.301539\n",
      "3  1.744812 -0.761207\n",
      "5  1.462108 -2.060141\n",
      "data:\n",
      "          0         1\n",
      "0  1.500000 -0.611756\n",
      "1 -0.528172 -1.072969\n",
      "2  0.865408 -1.500000\n",
      "3  1.500000 -0.761207\n",
      "4  0.319039 -0.249370\n",
      "5  1.462108 -1.500000\n",
      "6 -0.322417 -0.384054\n",
      "7  1.133769 -1.099891\n",
      "8 -0.172428 -0.877858\n",
      "9  0.042214  0.582815\n"
     ]
    }
   ],
   "source": [
    "### Detecting and filtering outliers\n",
    "from numpy.random import randn\n",
    "from pandas import *\n",
    "np.random.seed(1)\n",
    "data=DataFrame(np.random.randn(10,2))\n",
    "print \"data:\"\n",
    "print  data\n",
    "print \"Outliers:\"\n",
    "print data[(np.abs(data) > 1.5).any(1)] ### finding outliers (It could be any specific value)\n",
    "data[np.abs(data) > 1.5] = np.sign(data) * 1.5 ### Replcing outliers with any desirable value\n",
    "print \"data:\"\n",
    "print data"
   ]
  },
  {
   "cell_type": "code",
   "execution_count": null,
   "metadata": {
    "collapsed": true
   },
   "outputs": [],
   "source": []
  },
  {
   "cell_type": "code",
   "execution_count": null,
   "metadata": {
    "collapsed": true
   },
   "outputs": [],
   "source": []
  }
 ],
 "metadata": {
  "anaconda-cloud": {},
  "kernelspec": {
   "display_name": "Python [default]",
   "language": "python",
   "name": "python2"
  },
  "language_info": {
   "codemirror_mode": {
    "name": "ipython",
    "version": 2
   },
   "file_extension": ".py",
   "mimetype": "text/x-python",
   "name": "python",
   "nbconvert_exporter": "python",
   "pygments_lexer": "ipython2",
   "version": "2.7.12"
  }
 },
 "nbformat": 4,
 "nbformat_minor": 0
}
